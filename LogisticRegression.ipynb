{
 "cells": [
  {
   "cell_type": "markdown",
   "metadata": {},
   "source": [
    "## Logistic Regression "
   ]
  },
  {
   "cell_type": "markdown",
   "metadata": {},
   "source": [
    "### Logistic Regression is the most famous ML algorithm. It is used for classification problem. It can be used for binary as well as multiclassification"
   ]
  },
  {
   "cell_type": "markdown",
   "metadata": {},
   "source": [
    "The logistic function is a sigmoid function, which takes any real input t $$ t\\in \\mathbb {R} $$ and outputs a value between zero and one"
   ]
  },
  {
   "attachments": {
    "image.png": {
     "image/png": "[encoded data removed]"
    }
   },
   "cell_type": "markdown",
   "metadata": {},
   "source": [
    "Logistic Function(Sigmoid Function)\n",
    "![image.png](attachment:image.png)"
   ]
  },
  {
   "attachments": {
    "image.png": {
     "image/png": "[encoded data removed]"
    }
   },
   "cell_type": "markdown",
   "metadata": {},
   "source": [
    "![image.png](attachment:image.png)"
   ]
  },
  {
   "attachments": {
    "image.png": {
     "image/png": "[encoded data removed]"
    }
   },
   "cell_type": "markdown",
   "metadata": {},
   "source": [
    "**odds**\n",
    "\n",
    "The odds signifies the ratio of probability of success to probability of failure\n",
    "$${\\text{odds}}=e^{\\beta _{0}+\\beta _{1}x}.$$\n",
    "\n",
    "**Log odds(Logit)**\n",
    "![image.png](attachment:image.png)"
   ]
  },
  {
   "attachments": {
    "image.png": {
     "image/png": "[encoded data removed]"
    }
   },
   "cell_type": "markdown",
   "metadata": {},
   "source": [
    "\n",
    "![image.png](attachment:image.png)"
   ]
  },
  {
   "cell_type": "markdown",
   "metadata": {},
   "source": [
    "### Let's get started"
   ]
  },
  {
   "cell_type": "markdown",
   "metadata": {},
   "source": [
    "In this tutorial we are using Titanic Dataset from kaggle.\n",
    "You can download the data from https://www.kaggle.com/c/titanic/data "
   ]
  },
  {
   "cell_type": "markdown",
   "metadata": {},
   "source": [
    "### Data Description "
   ]
  },
  {
   "cell_type": "markdown",
   "metadata": {},
   "source": [
    "The data has been split into two groups:\n",
    "training set (train.csv)\n",
    "test set (test.csv)\n",
    "\n",
    "Data Dictionary\n",
    "Variable\tDefinition\tKey\n",
    "survival\tSurvival\t0 = No, 1 = Yes\n",
    "pclass\tTicket class\t1 = 1st, 2 = 2nd, 3 = 3rd\n",
    "sex\tSex\t\n",
    "Age\tAge in years\t\n",
    "sibsp\t# of siblings / spouses aboard the Titanic\t\n",
    "parch\t# of parents / children aboard the Titanic\t\n",
    "ticket\tTicket number\t\n",
    "fare\tPassenger fare\t\n",
    "cabin\tCabin number\t\n",
    "embarked\tPort of Embarkation\tC = Cherbourg, Q = Queenstown, S = Southampton\n",
    "Variable Notes\n",
    "pclass: A proxy for socio-economic status (SES)\n",
    "1st = Upper\n",
    "2nd = Middle\n",
    "3rd = Lower\n",
    "\n",
    "age: Age is fractional if less than 1. If the age is estimated, is it in the form of xx.5\n",
    "\n",
    "sibsp: The dataset defines family relations in this way...\n",
    "Sibling = brother, sister, stepbrother, stepsister\n",
    "Spouse = husband, wife (mistresses and fiancés were ignored)\n",
    "\n",
    "parch: The dataset defines family relations in this way...\n",
    "Parent = mother, father\n",
    "Child = daughter, son, stepdaughter, stepson\n",
    "Some children travelled only with a nanny, therefore parch=0 for them."
   ]
  },
  {
   "cell_type": "code",
   "execution_count": 4,
   "metadata": {
    "collapsed": true
   },
   "outputs": [],
   "source": [
    "#importing libraries\n",
    "import pandas as pd\n",
    "import numpy as np\n",
    "from sklearn.linear_model import LogisticRegression\n",
    "from sklearn.model_selection import train_test_split\n",
    "from sklearn.metrics import confusion_matrix,accuracy_score,classification_report,roc_auc_score"
   ]
  },
  {
   "cell_type": "code",
   "execution_count": 5,
   "metadata": {
    "collapsed": true
   },
   "outputs": [],
   "source": [
    "##Reading Data\n",
    "train=pd.read_csv('train.csv')"
   ]
  },
  {
   "cell_type": "code",
   "execution_count": 6,
   "metadata": {},
   "outputs": [
    {
     "data": {
      "text/plain": [
       "(891, 12)"
      ]
     },
     "execution_count": 6,
     "metadata": {},
     "output_type": "execute_result"
    }
   ],
   "source": [
    "train.shape"
   ]
  },
  {
   "cell_type": "code",
   "execution_count": 7,
   "metadata": {},
   "outputs": [
    {
     "data": {
      "text/html": [
       "<div>\n",
       "<style>\n",
       "    .dataframe thead tr:only-child th {\n",
       "        text-align: right;\n",
       "    }\n",
       "\n",
       "    .dataframe thead th {\n",
       "        text-align: left;\n",
       "    }\n",
       "\n",
       "    .dataframe tbody tr th {\n",
       "        vertical-align: top;\n",
       "    }\n",
       "</style>\n",
       "<table border=\"1\" class=\"dataframe\">\n",
       "  <thead>\n",
       "    <tr style=\"text-align: right;\">\n",
       "      <th></th>\n",
       "      <th>PassengerId</th>\n",
       "      <th>Survived</th>\n",
       "      <th>Pclass</th>\n",
       "      <th>Name</th>\n",
       "      <th>Sex</th>\n",
       "      <th>Age</th>\n",
       "      <th>SibSp</th>\n",
       "      <th>Parch</th>\n",
       "      <th>Ticket</th>\n",
       "      <th>Fare</th>\n",
       "      <th>Cabin</th>\n",
       "      <th>Embarked</th>\n",
       "    </tr>\n",
       "  </thead>\n",
       "  <tbody>\n",
       "    <tr>\n",
       "      <th>0</th>\n",
       "      <td>1</td>\n",
       "      <td>0</td>\n",
       "      <td>3</td>\n",
       "      <td>Braund, Mr. Owen Harris</td>\n",
       "      <td>male</td>\n",
       "      <td>22.0</td>\n",
       "      <td>1</td>\n",
       "      <td>0</td>\n",
       "      <td>A/5 21171</td>\n",
       "      <td>7.2500</td>\n",
       "      <td>NaN</td>\n",
       "      <td>S</td>\n",
       "    </tr>\n",
       "    <tr>\n",
       "      <th>1</th>\n",
       "      <td>2</td>\n",
       "      <td>1</td>\n",
       "      <td>1</td>\n",
       "      <td>Cumings, Mrs. John Bradley (Florence Briggs Th...</td>\n",
       "      <td>female</td>\n",
       "      <td>38.0</td>\n",
       "      <td>1</td>\n",
       "      <td>0</td>\n",
       "      <td>PC 17599</td>\n",
       "      <td>71.2833</td>\n",
       "      <td>C85</td>\n",
       "      <td>C</td>\n",
       "    </tr>\n",
       "    <tr>\n",
       "      <th>2</th>\n",
       "      <td>3</td>\n",
       "      <td>1</td>\n",
       "      <td>3</td>\n",
       "      <td>Heikkinen, Miss. Laina</td>\n",
       "      <td>female</td>\n",
       "      <td>26.0</td>\n",
       "      <td>0</td>\n",
       "      <td>0</td>\n",
       "      <td>STON/O2. 3101282</td>\n",
       "      <td>7.9250</td>\n",
       "      <td>NaN</td>\n",
       "      <td>S</td>\n",
       "    </tr>\n",
       "    <tr>\n",
       "      <th>3</th>\n",
       "      <td>4</td>\n",
       "      <td>1</td>\n",
       "      <td>1</td>\n",
       "      <td>Futrelle, Mrs. Jacques Heath (Lily May Peel)</td>\n",
       "      <td>female</td>\n",
       "      <td>35.0</td>\n",
       "      <td>1</td>\n",
       "      <td>0</td>\n",
       "      <td>113803</td>\n",
       "      <td>53.1000</td>\n",
       "      <td>C123</td>\n",
       "      <td>S</td>\n",
       "    </tr>\n",
       "    <tr>\n",
       "      <th>4</th>\n",
       "      <td>5</td>\n",
       "      <td>0</td>\n",
       "      <td>3</td>\n",
       "      <td>Allen, Mr. William Henry</td>\n",
       "      <td>male</td>\n",
       "      <td>35.0</td>\n",
       "      <td>0</td>\n",
       "      <td>0</td>\n",
       "      <td>373450</td>\n",
       "      <td>8.0500</td>\n",
       "      <td>NaN</td>\n",
       "      <td>S</td>\n",
       "    </tr>\n",
       "  </tbody>\n",
       "</table>\n",
       "</div>"
      ],
      "text/plain": [
       "   PassengerId  Survived  Pclass  \\\n",
       "0            1         0       3   \n",
       "1            2         1       1   \n",
       "2            3         1       3   \n",
       "3            4         1       1   \n",
       "4            5         0       3   \n",
       "\n",
       "                                                Name     Sex   Age  SibSp  \\\n",
       "0                            Braund, Mr. Owen Harris    male  22.0      1   \n",
       "1  Cumings, Mrs. John Bradley (Florence Briggs Th...  female  38.0      1   \n",
       "2                             Heikkinen, Miss. Laina  female  26.0      0   \n",
       "3       Futrelle, Mrs. Jacques Heath (Lily May Peel)  female  35.0      1   \n",
       "4                           Allen, Mr. William Henry    male  35.0      0   \n",
       "\n",
       "   Parch            Ticket     Fare Cabin Embarked  \n",
       "0      0         A/5 21171   7.2500   NaN        S  \n",
       "1      0          PC 17599  71.2833   C85        C  \n",
       "2      0  STON/O2. 3101282   7.9250   NaN        S  \n",
       "3      0            113803  53.1000  C123        S  \n",
       "4      0            373450   8.0500   NaN        S  "
      ]
     },
     "execution_count": 7,
     "metadata": {},
     "output_type": "execute_result"
    }
   ],
   "source": [
    "train.head()"
   ]
  },
  {
   "cell_type": "code",
   "execution_count": 8,
   "metadata": {},
   "outputs": [
    {
     "data": {
      "text/plain": [
       "PassengerId      0\n",
       "Survived         0\n",
       "Pclass           0\n",
       "Name             0\n",
       "Sex              0\n",
       "Age            177\n",
       "SibSp            0\n",
       "Parch            0\n",
       "Ticket           0\n",
       "Fare             0\n",
       "Cabin          687\n",
       "Embarked         2\n",
       "dtype: int64"
      ]
     },
     "execution_count": 8,
     "metadata": {},
     "output_type": "execute_result"
    }
   ],
   "source": [
    "train.isnull().sum()"
   ]
  },
  {
   "cell_type": "code",
   "execution_count": 9,
   "metadata": {},
   "outputs": [
    {
     "data": {
      "text/plain": [
       "0    549\n",
       "1    342\n",
       "Name: Survived, dtype: int64"
      ]
     },
     "execution_count": 9,
     "metadata": {},
     "output_type": "execute_result"
    }
   ],
   "source": [
    "## Target variable\n",
    "train['Survived'].value_counts()"
   ]
  },
  {
   "cell_type": "code",
   "execution_count": 10,
   "metadata": {},
   "outputs": [
    {
     "data": {
      "text/plain": [
       "0    0.616162\n",
       "1    0.383838\n",
       "Name: Survived, dtype: float64"
      ]
     },
     "execution_count": 10,
     "metadata": {},
     "output_type": "execute_result"
    }
   ],
   "source": [
    "train['Survived'].value_counts(normalize=True)"
   ]
  },
  {
   "cell_type": "code",
   "execution_count": 11,
   "metadata": {},
   "outputs": [
    {
     "data": {
      "text/html": [
       "<div>\n",
       "<style>\n",
       "    .dataframe thead tr:only-child th {\n",
       "        text-align: right;\n",
       "    }\n",
       "\n",
       "    .dataframe thead th {\n",
       "        text-align: left;\n",
       "    }\n",
       "\n",
       "    .dataframe tbody tr th {\n",
       "        vertical-align: top;\n",
       "    }\n",
       "</style>\n",
       "<table border=\"1\" class=\"dataframe\">\n",
       "  <thead>\n",
       "    <tr style=\"text-align: right;\">\n",
       "      <th></th>\n",
       "      <th>PassengerId</th>\n",
       "      <th>Survived</th>\n",
       "      <th>Pclass</th>\n",
       "      <th>Age</th>\n",
       "      <th>SibSp</th>\n",
       "      <th>Parch</th>\n",
       "      <th>Fare</th>\n",
       "    </tr>\n",
       "  </thead>\n",
       "  <tbody>\n",
       "    <tr>\n",
       "      <th>count</th>\n",
       "      <td>891.000000</td>\n",
       "      <td>891.000000</td>\n",
       "      <td>891.000000</td>\n",
       "      <td>714.000000</td>\n",
       "      <td>891.000000</td>\n",
       "      <td>891.000000</td>\n",
       "      <td>891.000000</td>\n",
       "    </tr>\n",
       "    <tr>\n",
       "      <th>mean</th>\n",
       "      <td>446.000000</td>\n",
       "      <td>0.383838</td>\n",
       "      <td>2.308642</td>\n",
       "      <td>29.699118</td>\n",
       "      <td>0.523008</td>\n",
       "      <td>0.381594</td>\n",
       "      <td>32.204208</td>\n",
       "    </tr>\n",
       "    <tr>\n",
       "      <th>std</th>\n",
       "      <td>257.353842</td>\n",
       "      <td>0.486592</td>\n",
       "      <td>0.836071</td>\n",
       "      <td>14.526497</td>\n",
       "      <td>1.102743</td>\n",
       "      <td>0.806057</td>\n",
       "      <td>49.693429</td>\n",
       "    </tr>\n",
       "    <tr>\n",
       "      <th>min</th>\n",
       "      <td>1.000000</td>\n",
       "      <td>0.000000</td>\n",
       "      <td>1.000000</td>\n",
       "      <td>0.420000</td>\n",
       "      <td>0.000000</td>\n",
       "      <td>0.000000</td>\n",
       "      <td>0.000000</td>\n",
       "    </tr>\n",
       "    <tr>\n",
       "      <th>25%</th>\n",
       "      <td>223.500000</td>\n",
       "      <td>0.000000</td>\n",
       "      <td>2.000000</td>\n",
       "      <td>20.125000</td>\n",
       "      <td>0.000000</td>\n",
       "      <td>0.000000</td>\n",
       "      <td>7.910400</td>\n",
       "    </tr>\n",
       "    <tr>\n",
       "      <th>50%</th>\n",
       "      <td>446.000000</td>\n",
       "      <td>0.000000</td>\n",
       "      <td>3.000000</td>\n",
       "      <td>28.000000</td>\n",
       "      <td>0.000000</td>\n",
       "      <td>0.000000</td>\n",
       "      <td>14.454200</td>\n",
       "    </tr>\n",
       "    <tr>\n",
       "      <th>75%</th>\n",
       "      <td>668.500000</td>\n",
       "      <td>1.000000</td>\n",
       "      <td>3.000000</td>\n",
       "      <td>38.000000</td>\n",
       "      <td>1.000000</td>\n",
       "      <td>0.000000</td>\n",
       "      <td>31.000000</td>\n",
       "    </tr>\n",
       "    <tr>\n",
       "      <th>max</th>\n",
       "      <td>891.000000</td>\n",
       "      <td>1.000000</td>\n",
       "      <td>3.000000</td>\n",
       "      <td>80.000000</td>\n",
       "      <td>8.000000</td>\n",
       "      <td>6.000000</td>\n",
       "      <td>512.329200</td>\n",
       "    </tr>\n",
       "  </tbody>\n",
       "</table>\n",
       "</div>"
      ],
      "text/plain": [
       "       PassengerId    Survived      Pclass         Age       SibSp  \\\n",
       "count   891.000000  891.000000  891.000000  714.000000  891.000000   \n",
       "mean    446.000000    0.383838    2.308642   29.699118    0.523008   \n",
       "std     257.353842    0.486592    0.836071   14.526497    1.102743   \n",
       "min       1.000000    0.000000    1.000000    0.420000    0.000000   \n",
       "25%     223.500000    0.000000    2.000000   20.125000    0.000000   \n",
       "50%     446.000000    0.000000    3.000000   28.000000    0.000000   \n",
       "75%     668.500000    1.000000    3.000000   38.000000    1.000000   \n",
       "max     891.000000    1.000000    3.000000   80.000000    8.000000   \n",
       "\n",
       "            Parch        Fare  \n",
       "count  891.000000  891.000000  \n",
       "mean     0.381594   32.204208  \n",
       "std      0.806057   49.693429  \n",
       "min      0.000000    0.000000  \n",
       "25%      0.000000    7.910400  \n",
       "50%      0.000000   14.454200  \n",
       "75%      0.000000   31.000000  \n",
       "max      6.000000  512.329200  "
      ]
     },
     "execution_count": 11,
     "metadata": {},
     "output_type": "execute_result"
    }
   ],
   "source": [
    "train.describe()"
   ]
  },
  {
   "cell_type": "code",
   "execution_count": 12,
   "metadata": {},
   "outputs": [
    {
     "data": {
      "text/plain": [
       "male      577\n",
       "female    314\n",
       "Name: Sex, dtype: int64"
      ]
     },
     "execution_count": 12,
     "metadata": {},
     "output_type": "execute_result"
    }
   ],
   "source": [
    "train['Sex'].value_counts()"
   ]
  },
  {
   "cell_type": "code",
   "execution_count": 13,
   "metadata": {
    "collapsed": true
   },
   "outputs": [],
   "source": [
    "## Let's create dummy variables\n",
    "embark=pd.get_dummies(train['Embarked'])"
   ]
  },
  {
   "cell_type": "code",
   "execution_count": 15,
   "metadata": {},
   "outputs": [],
   "source": [
    "gender=pd.get_dummies(train['Sex'])"
   ]
  },
  {
   "cell_type": "code",
   "execution_count": 16,
   "metadata": {
    "collapsed": true
   },
   "outputs": [],
   "source": [
    "train['Age'].fillna(30,inplace=True)\n",
    "train['Age']=train['Age'].astype('int')"
   ]
  },
  {
   "cell_type": "code",
   "execution_count": 17,
   "metadata": {},
   "outputs": [
    {
     "data": {
      "text/plain": [
       "PassengerId      0\n",
       "Survived         0\n",
       "Pclass           0\n",
       "Name             0\n",
       "Sex              0\n",
       "Age              0\n",
       "SibSp            0\n",
       "Parch            0\n",
       "Ticket           0\n",
       "Fare             0\n",
       "Cabin          687\n",
       "Embarked         2\n",
       "dtype: int64"
      ]
     },
     "execution_count": 17,
     "metadata": {},
     "output_type": "execute_result"
    }
   ],
   "source": [
    "train.isnull().sum()"
   ]
  },
  {
   "cell_type": "code",
   "execution_count": 18,
   "metadata": {
    "collapsed": true
   },
   "outputs": [],
   "source": [
    "def age_grp(age):\n",
    "    if age<18:\n",
    "        return '<18'\n",
    "    elif (age>=18) &(age<=24):\n",
    "        return '18-24'\n",
    "    elif (age>=25) &(age<=34):\n",
    "        return '25-34'\n",
    "    elif (age>=35) &(age<=44):\n",
    "        return '35-44'\n",
    "    else:\n",
    "        return '45+'\n",
    "    "
   ]
  },
  {
   "cell_type": "code",
   "execution_count": 20,
   "metadata": {},
   "outputs": [],
   "source": [
    "train['Age_grp']=train['Age'].apply(lambda x: age_grp(x))"
   ]
  },
  {
   "cell_type": "code",
   "execution_count": 21,
   "metadata": {
    "collapsed": true
   },
   "outputs": [],
   "source": [
    "age=pd.get_dummies(train['Age_grp'])"
   ]
  },
  {
   "cell_type": "code",
   "execution_count": 22,
   "metadata": {
    "collapsed": true
   },
   "outputs": [],
   "source": [
    "train_df=pd.concat([train,embark,gender,age],axis=1)"
   ]
  },
  {
   "cell_type": "code",
   "execution_count": 23,
   "metadata": {},
   "outputs": [
    {
     "data": {
      "text/plain": [
       "Index(['PassengerId', 'Survived', 'Pclass', 'Name', 'Sex', 'Age', 'SibSp',\n",
       "       'Parch', 'Ticket', 'Fare', 'Cabin', 'Embarked', 'Age_grp', 'C', 'Q',\n",
       "       'S', 'female', 'male', '18-24', '25-34', '35-44', '45+', '<18'],\n",
       "      dtype='object')"
      ]
     },
     "execution_count": 23,
     "metadata": {},
     "output_type": "execute_result"
    }
   ],
   "source": [
    "train_df.columns"
   ]
  },
  {
   "cell_type": "code",
   "execution_count": 24,
   "metadata": {},
   "outputs": [
    {
     "data": {
      "text/plain": [
       "PassengerId      0\n",
       "Survived         0\n",
       "Pclass           0\n",
       "Name             0\n",
       "Sex              0\n",
       "Age              0\n",
       "SibSp            0\n",
       "Parch            0\n",
       "Ticket           0\n",
       "Fare             0\n",
       "Cabin          687\n",
       "Embarked         2\n",
       "Age_grp          0\n",
       "C                0\n",
       "Q                0\n",
       "S                0\n",
       "female           0\n",
       "male             0\n",
       "18-24            0\n",
       "25-34            0\n",
       "35-44            0\n",
       "45+              0\n",
       "<18              0\n",
       "dtype: int64"
      ]
     },
     "execution_count": 24,
     "metadata": {},
     "output_type": "execute_result"
    }
   ],
   "source": [
    "train_df.isnull().sum()"
   ]
  },
  {
   "cell_type": "code",
   "execution_count": 25,
   "metadata": {
    "collapsed": true
   },
   "outputs": [],
   "source": [
    "def is_var(val):\n",
    "    if val>0:\n",
    "        return 1\n",
    "    else:\n",
    "        return 0"
   ]
  },
  {
   "cell_type": "code",
   "execution_count": 27,
   "metadata": {},
   "outputs": [],
   "source": [
    "train_df['Parch']=train_df['Parch'].apply(lambda x: is_var(x))\n",
    "train_df['SibSp']=train_df['SibSp'].apply(lambda x: is_var(x))"
   ]
  },
  {
   "cell_type": "code",
   "execution_count": 28,
   "metadata": {},
   "outputs": [
    {
     "data": {
      "text/plain": [
       "Index(['PassengerId', 'Survived', 'Pclass', 'Name', 'Sex', 'Age', 'SibSp',\n",
       "       'Parch', 'Ticket', 'Fare', 'Cabin', 'Embarked', 'Age_grp', 'C', 'Q',\n",
       "       'S', 'female', 'male', '18-24', '25-34', '35-44', '45+', '<18'],\n",
       "      dtype='object')"
      ]
     },
     "execution_count": 28,
     "metadata": {},
     "output_type": "execute_result"
    }
   ],
   "source": [
    "train_df.columns"
   ]
  },
  {
   "cell_type": "code",
   "execution_count": 29,
   "metadata": {
    "collapsed": true
   },
   "outputs": [],
   "source": [
    "sel_cols=[\n",
    "    'Pclass', 'SibSp',\n",
    "       'Parch',  'C', 'Q',\n",
    "       'S', 'female', 'male', '18-24', '25-34', '35-44', '45+', '<18'\n",
    "]"
   ]
  },
  {
   "cell_type": "code",
   "execution_count": 30,
   "metadata": {
    "collapsed": true
   },
   "outputs": [],
   "source": [
    "train_df.fillna(0,inplace=True)"
   ]
  },
  {
   "cell_type": "code",
   "execution_count": 31,
   "metadata": {
    "collapsed": true
   },
   "outputs": [],
   "source": [
    "X=train_df[sel_cols]"
   ]
  },
  {
   "cell_type": "code",
   "execution_count": 32,
   "metadata": {},
   "outputs": [
    {
     "data": {
      "text/html": [
       "<div>\n",
       "<style>\n",
       "    .dataframe thead tr:only-child th {\n",
       "        text-align: right;\n",
       "    }\n",
       "\n",
       "    .dataframe thead th {\n",
       "        text-align: left;\n",
       "    }\n",
       "\n",
       "    .dataframe tbody tr th {\n",
       "        vertical-align: top;\n",
       "    }\n",
       "</style>\n",
       "<table border=\"1\" class=\"dataframe\">\n",
       "  <thead>\n",
       "    <tr style=\"text-align: right;\">\n",
       "      <th></th>\n",
       "      <th>Pclass</th>\n",
       "      <th>SibSp</th>\n",
       "      <th>Parch</th>\n",
       "      <th>C</th>\n",
       "      <th>Q</th>\n",
       "      <th>S</th>\n",
       "      <th>female</th>\n",
       "      <th>male</th>\n",
       "      <th>18-24</th>\n",
       "      <th>25-34</th>\n",
       "      <th>35-44</th>\n",
       "      <th>45+</th>\n",
       "      <th>&lt;18</th>\n",
       "    </tr>\n",
       "  </thead>\n",
       "  <tbody>\n",
       "    <tr>\n",
       "      <th>0</th>\n",
       "      <td>3</td>\n",
       "      <td>1</td>\n",
       "      <td>0</td>\n",
       "      <td>0</td>\n",
       "      <td>0</td>\n",
       "      <td>1</td>\n",
       "      <td>0</td>\n",
       "      <td>1</td>\n",
       "      <td>1</td>\n",
       "      <td>0</td>\n",
       "      <td>0</td>\n",
       "      <td>0</td>\n",
       "      <td>0</td>\n",
       "    </tr>\n",
       "    <tr>\n",
       "      <th>1</th>\n",
       "      <td>1</td>\n",
       "      <td>1</td>\n",
       "      <td>0</td>\n",
       "      <td>1</td>\n",
       "      <td>0</td>\n",
       "      <td>0</td>\n",
       "      <td>1</td>\n",
       "      <td>0</td>\n",
       "      <td>0</td>\n",
       "      <td>0</td>\n",
       "      <td>1</td>\n",
       "      <td>0</td>\n",
       "      <td>0</td>\n",
       "    </tr>\n",
       "    <tr>\n",
       "      <th>2</th>\n",
       "      <td>3</td>\n",
       "      <td>0</td>\n",
       "      <td>0</td>\n",
       "      <td>0</td>\n",
       "      <td>0</td>\n",
       "      <td>1</td>\n",
       "      <td>1</td>\n",
       "      <td>0</td>\n",
       "      <td>0</td>\n",
       "      <td>1</td>\n",
       "      <td>0</td>\n",
       "      <td>0</td>\n",
       "      <td>0</td>\n",
       "    </tr>\n",
       "    <tr>\n",
       "      <th>3</th>\n",
       "      <td>1</td>\n",
       "      <td>1</td>\n",
       "      <td>0</td>\n",
       "      <td>0</td>\n",
       "      <td>0</td>\n",
       "      <td>1</td>\n",
       "      <td>1</td>\n",
       "      <td>0</td>\n",
       "      <td>0</td>\n",
       "      <td>0</td>\n",
       "      <td>1</td>\n",
       "      <td>0</td>\n",
       "      <td>0</td>\n",
       "    </tr>\n",
       "    <tr>\n",
       "      <th>4</th>\n",
       "      <td>3</td>\n",
       "      <td>0</td>\n",
       "      <td>0</td>\n",
       "      <td>0</td>\n",
       "      <td>0</td>\n",
       "      <td>1</td>\n",
       "      <td>0</td>\n",
       "      <td>1</td>\n",
       "      <td>0</td>\n",
       "      <td>0</td>\n",
       "      <td>1</td>\n",
       "      <td>0</td>\n",
       "      <td>0</td>\n",
       "    </tr>\n",
       "  </tbody>\n",
       "</table>\n",
       "</div>"
      ],
      "text/plain": [
       "   Pclass  SibSp  Parch  C  Q  S  female  male  18-24  25-34  35-44  45+  <18\n",
       "0       3      1      0  0  0  1       0     1      1      0      0    0    0\n",
       "1       1      1      0  1  0  0       1     0      0      0      1    0    0\n",
       "2       3      0      0  0  0  1       1     0      0      1      0    0    0\n",
       "3       1      1      0  0  0  1       1     0      0      0      1    0    0\n",
       "4       3      0      0  0  0  1       0     1      0      0      1    0    0"
      ]
     },
     "execution_count": 32,
     "metadata": {},
     "output_type": "execute_result"
    }
   ],
   "source": [
    "X.head()"
   ]
  },
  {
   "cell_type": "code",
   "execution_count": 33,
   "metadata": {
    "collapsed": true
   },
   "outputs": [],
   "source": [
    "y=train_df['Survived']"
   ]
  },
  {
   "cell_type": "code",
   "execution_count": 34,
   "metadata": {
    "collapsed": true
   },
   "outputs": [],
   "source": [
    "train_X,val_X,train_y,val_y=train_test_split(X,y,test_size=0.3,random_state=1)"
   ]
  },
  {
   "cell_type": "code",
   "execution_count": 35,
   "metadata": {},
   "outputs": [
    {
     "data": {
      "text/plain": [
       "LogisticRegression(C=1.0, class_weight=None, dual=False, fit_intercept=True,\n",
       "          intercept_scaling=1, max_iter=100, multi_class='ovr', n_jobs=1,\n",
       "          penalty='l2', random_state=None, solver='liblinear', tol=0.0001,\n",
       "          verbose=0, warm_start=False)"
      ]
     },
     "execution_count": 35,
     "metadata": {},
     "output_type": "execute_result"
    }
   ],
   "source": [
    "##Model\n",
    "lr=LogisticRegression()\n",
    "lr.fit(train_X,train_y)"
   ]
  },
  {
   "cell_type": "code",
   "execution_count": 36,
   "metadata": {},
   "outputs": [
    {
     "data": {
      "text/plain": [
       "0.8218298555377207"
      ]
     },
     "execution_count": 36,
     "metadata": {},
     "output_type": "execute_result"
    }
   ],
   "source": [
    "lr.score(train_X,train_y)"
   ]
  },
  {
   "cell_type": "code",
   "execution_count": 37,
   "metadata": {},
   "outputs": [
    {
     "data": {
      "text/plain": [
       "0.77238805970149249"
      ]
     },
     "execution_count": 37,
     "metadata": {},
     "output_type": "execute_result"
    }
   ],
   "source": [
    "lr.score(val_X,val_y)"
   ]
  },
  {
   "cell_type": "code",
   "execution_count": 38,
   "metadata": {
    "collapsed": true
   },
   "outputs": [],
   "source": [
    "pred=lr.predict(val_X)"
   ]
  },
  {
   "cell_type": "code",
   "execution_count": 39,
   "metadata": {
    "collapsed": true
   },
   "outputs": [],
   "source": [
    "pred_prob=lr.predict_proba(val_X)"
   ]
  },
  {
   "cell_type": "code",
   "execution_count": 40,
   "metadata": {},
   "outputs": [
    {
     "data": {
      "text/plain": [
       "array([1, 0, 1, 1, 1, 0, 0, 1, 0, 1, 0, 0, 0, 0, 1, 0, 0, 0, 0, 1, 0, 0, 1,\n",
       "       0, 1, 0, 1, 1, 0, 1, 1, 0, 1, 0, 0, 1, 0, 0, 0, 0, 0, 1, 1, 0, 1, 0,\n",
       "       0, 0, 1, 0, 0, 1, 0, 0, 0, 1, 0, 0, 0, 1, 0, 0, 0, 0, 0, 1, 0, 0, 1,\n",
       "       0, 0, 0, 0, 0, 1, 0, 1, 0, 0, 1, 0, 0, 0, 0, 1, 0, 0, 0, 1, 1, 0, 0,\n",
       "       0, 1, 0, 0, 0, 1, 0, 0, 0, 0, 0, 1, 1, 0, 0, 0, 0, 0, 0, 0, 0, 0, 0,\n",
       "       0, 0, 0, 1, 0, 1, 0, 0, 0, 1, 1, 1, 1, 0, 0, 0, 0, 1, 0, 0, 1, 1, 0,\n",
       "       0, 1, 1, 0, 1, 0, 0, 1, 0, 0, 1, 0, 1, 0, 0, 1, 0, 0, 0, 0, 1, 0, 0,\n",
       "       0, 1, 0, 0, 1, 1, 0, 0, 0, 1, 1, 1, 0, 1, 0, 0, 0, 1, 0, 1, 1, 0, 0,\n",
       "       1, 0, 0, 1, 0, 1, 0, 0, 1, 1, 1, 1, 0, 1, 0, 0, 0, 1, 0, 0, 0, 1, 1,\n",
       "       0, 0, 0, 1, 0, 0, 0, 0, 0, 0, 1, 1, 0, 0, 0, 0, 0, 0, 0, 1, 0, 1, 0,\n",
       "       0, 0, 0, 0, 0, 1, 0, 1, 1, 0, 0, 0, 0, 0, 0, 0, 1, 1, 0, 1, 0, 0, 0,\n",
       "       1, 1, 1, 0, 1, 0, 1, 1, 0, 1, 1, 0, 0, 0, 0], dtype=int64)"
      ]
     },
     "execution_count": 40,
     "metadata": {},
     "output_type": "execute_result"
    }
   ],
   "source": [
    "pred"
   ]
  },
  {
   "cell_type": "code",
   "execution_count": 41,
   "metadata": {},
   "outputs": [
    {
     "data": {
      "text/plain": [
       "array([[ 0.15511184,  0.84488816],\n",
       "       [ 0.93400617,  0.06599383],\n",
       "       [ 0.10015058,  0.89984942],\n",
       "       [ 0.39203743,  0.60796257],\n",
       "       [ 0.09413539,  0.90586461],\n",
       "       [ 0.92577403,  0.07422597],\n",
       "       [ 0.80578974,  0.19421026],\n",
       "       [ 0.10854174,  0.89145826],\n",
       "       [ 0.54495623,  0.45504377],\n",
       "       [ 0.41030844,  0.58969156],\n",
       "       [ 0.93400617,  0.06599383],\n",
       "       [ 0.50524984,  0.49475016],\n",
       "       [ 0.71785851,  0.28214149],\n",
       "       [ 0.83279534,  0.16720466],\n",
       "       [ 0.39203743,  0.60796257],\n",
       "       [ 0.63673407,  0.36326593],\n",
       "       [ 0.81535429,  0.18464571],\n",
       "       [ 0.93083465,  0.06916535],\n",
       "       [ 0.92661626,  0.07338374],\n",
       "       [ 0.2418991 ,  0.7581009 ],\n",
       "       [ 0.93400617,  0.06599383],\n",
       "       [ 0.9062783 ,  0.0937217 ],\n",
       "       [ 0.06592241,  0.93407759],\n",
       "       [ 0.81444622,  0.18555378],\n",
       "       [ 0.17768588,  0.82231412],\n",
       "       [ 0.93400617,  0.06599383],\n",
       "       [ 0.0663834 ,  0.9336166 ],\n",
       "       [ 0.24279125,  0.75720875],\n",
       "       [ 0.83279534,  0.16720466],\n",
       "       [ 0.10028062,  0.89971938],\n",
       "       [ 0.47367297,  0.52632703],\n",
       "       [ 0.63673407,  0.36326593],\n",
       "       [ 0.47860751,  0.52139249],\n",
       "       [ 0.52424738,  0.47575262],\n",
       "       [ 0.88855655,  0.11144345],\n",
       "       [ 0.24163475,  0.75836525],\n",
       "       [ 0.60995719,  0.39004281],\n",
       "       [ 0.93400617,  0.06599383],\n",
       "       [ 0.54495623,  0.45504377],\n",
       "       [ 0.92577403,  0.07422597],\n",
       "       [ 0.50524984,  0.49475016],\n",
       "       [ 0.48810147,  0.51189853],\n",
       "       [ 0.15609231,  0.84390769],\n",
       "       [ 0.71785851,  0.28214149],\n",
       "       [ 0.47696514,  0.52303486],\n",
       "       [ 0.92661626,  0.07338374],\n",
       "       [ 0.81535429,  0.18464571],\n",
       "       [ 0.81630102,  0.18369898],\n",
       "       [ 0.49754044,  0.50245956],\n",
       "       [ 0.6066779 ,  0.3933221 ],\n",
       "       [ 0.75925489,  0.24074511],\n",
       "       [ 0.24053328,  0.75946672],\n",
       "       [ 0.81444622,  0.18555378],\n",
       "       [ 0.81630102,  0.18369898],\n",
       "       [ 0.93400617,  0.06599383],\n",
       "       [ 0.4926655 ,  0.5073345 ],\n",
       "       [ 0.83279534,  0.16720466],\n",
       "       [ 0.71785851,  0.28214149],\n",
       "       [ 0.92712207,  0.07287793],\n",
       "       [ 0.47367297,  0.52632703],\n",
       "       [ 0.50711513,  0.49288487],\n",
       "       [ 0.89961474,  0.10038526],\n",
       "       [ 0.82302326,  0.17697674],\n",
       "       [ 0.71785851,  0.28214149],\n",
       "       [ 0.6541389 ,  0.3458611 ],\n",
       "       [ 0.37646644,  0.62353356],\n",
       "       [ 0.88835108,  0.11164892],\n",
       "       [ 0.89961474,  0.10038526],\n",
       "       [ 0.22797106,  0.77202894],\n",
       "       [ 0.81741737,  0.18258263],\n",
       "       [ 0.93083465,  0.06916535],\n",
       "       [ 0.81535429,  0.18464571],\n",
       "       [ 0.61701399,  0.38298601],\n",
       "       [ 0.93400617,  0.06599383],\n",
       "       [ 0.34283059,  0.65716941],\n",
       "       [ 0.76061625,  0.23938375],\n",
       "       [ 0.10854174,  0.89145826],\n",
       "       [ 0.8993629 ,  0.1006371 ],\n",
       "       [ 0.61701399,  0.38298601],\n",
       "       [ 0.03769134,  0.96230866],\n",
       "       [ 0.93400617,  0.06599383],\n",
       "       [ 0.93446465,  0.06553535],\n",
       "       [ 0.93400617,  0.06599383],\n",
       "       [ 0.93400617,  0.06599383],\n",
       "       [ 0.16704329,  0.83295671],\n",
       "       [ 0.93400617,  0.06599383],\n",
       "       [ 0.93400617,  0.06599383],\n",
       "       [ 0.89961474,  0.10038526],\n",
       "       [ 0.24163475,  0.75836525],\n",
       "       [ 0.2794308 ,  0.7205692 ],\n",
       "       [ 0.71785851,  0.28214149],\n",
       "       [ 0.89961474,  0.10038526],\n",
       "       [ 0.8993629 ,  0.1006371 ],\n",
       "       [ 0.39203743,  0.60796257],\n",
       "       [ 0.93400617,  0.06599383],\n",
       "       [ 0.52603801,  0.47396199],\n",
       "       [ 0.95358335,  0.04641665],\n",
       "       [ 0.39270155,  0.60729845],\n",
       "       [ 0.92577403,  0.07422597],\n",
       "       [ 0.93400617,  0.06599383],\n",
       "       [ 0.52603801,  0.47396199],\n",
       "       [ 0.60995719,  0.39004281],\n",
       "       [ 0.90028664,  0.09971336],\n",
       "       [ 0.34728848,  0.65271152],\n",
       "       [ 0.02263243,  0.97736757],\n",
       "       [ 0.92577403,  0.07422597],\n",
       "       [ 0.93400617,  0.06599383],\n",
       "       [ 0.93400617,  0.06599383],\n",
       "       [ 0.81535429,  0.18464571],\n",
       "       [ 0.92661626,  0.07338374],\n",
       "       [ 0.63482177,  0.36517823],\n",
       "       [ 0.8876088 ,  0.1123912 ],\n",
       "       [ 0.87849088,  0.12150912],\n",
       "       [ 0.93854279,  0.06145721],\n",
       "       [ 0.81444622,  0.18555378],\n",
       "       [ 0.93400617,  0.06599383],\n",
       "       [ 0.8431209 ,  0.1568791 ],\n",
       "       [ 0.6541389 ,  0.3458611 ],\n",
       "       [ 0.25704746,  0.74295254],\n",
       "       [ 0.50524984,  0.49475016],\n",
       "       [ 0.2794308 ,  0.7205692 ],\n",
       "       [ 0.71936744,  0.28063256],\n",
       "       [ 0.93400617,  0.06599383],\n",
       "       [ 0.81444622,  0.18555378],\n",
       "       [ 0.10561764,  0.89438236],\n",
       "       [ 0.10028062,  0.89971938],\n",
       "       [ 0.26437493,  0.73562507],\n",
       "       [ 0.47367297,  0.52632703],\n",
       "       [ 0.93446465,  0.06553535],\n",
       "       [ 0.8993629 ,  0.1006371 ],\n",
       "       [ 0.92577403,  0.07422597],\n",
       "       [ 0.92661626,  0.07338374],\n",
       "       [ 0.16788263,  0.83211737],\n",
       "       [ 0.52603801,  0.47396199],\n",
       "       [ 0.52424738,  0.47575262],\n",
       "       [ 0.10414182,  0.89585818],\n",
       "       [ 0.09425843,  0.90574157],\n",
       "       [ 0.81535429,  0.18464571],\n",
       "       [ 0.93083465,  0.06916535],\n",
       "       [ 0.47367297,  0.52632703],\n",
       "       [ 0.11302152,  0.88697848],\n",
       "       [ 0.92661626,  0.07338374],\n",
       "       [ 0.03796293,  0.96203707],\n",
       "       [ 0.50524984,  0.49475016],\n",
       "       [ 0.93400617,  0.06599383],\n",
       "       [ 0.4926655 ,  0.5073345 ],\n",
       "       [ 0.83279534,  0.16720466],\n",
       "       [ 0.93400617,  0.06599383],\n",
       "       [ 0.34945313,  0.65054687],\n",
       "       [ 0.92577403,  0.07422597],\n",
       "       [ 0.22797106,  0.77202894],\n",
       "       [ 0.95358335,  0.04641665],\n",
       "       [ 0.7360285 ,  0.2639715 ],\n",
       "       [ 0.36235397,  0.63764603],\n",
       "       [ 0.93400617,  0.06599383],\n",
       "       [ 0.93400617,  0.06599383],\n",
       "       [ 0.92577403,  0.07422597],\n",
       "       [ 0.92661626,  0.07338374],\n",
       "       [ 0.1971414 ,  0.8028586 ],\n",
       "       [ 0.81444622,  0.18555378],\n",
       "       [ 0.82743409,  0.17256591],\n",
       "       [ 0.93400617,  0.06599383],\n",
       "       [ 0.47367297,  0.52632703],\n",
       "       [ 0.63673407,  0.36326593],\n",
       "       [ 0.93854279,  0.06145721],\n",
       "       [ 0.17768588,  0.82231412],\n",
       "       [ 0.2418991 ,  0.7581009 ],\n",
       "       [ 0.93400617,  0.06599383],\n",
       "       [ 0.81422819,  0.18577181],\n",
       "       [ 0.60067778,  0.39932222],\n",
       "       [ 0.06668517,  0.93331483],\n",
       "       [ 0.24163475,  0.75836525],\n",
       "       [ 0.11227561,  0.88772439],\n",
       "       [ 0.92628518,  0.07371482],\n",
       "       [ 0.15511184,  0.84488816],\n",
       "       [ 0.63673407,  0.36326593],\n",
       "       [ 0.8993629 ,  0.1006371 ],\n",
       "       [ 0.88733061,  0.11266939],\n",
       "       [ 0.16788263,  0.83211737],\n",
       "       [ 0.90604144,  0.09395856],\n",
       "       [ 0.07414635,  0.92585365],\n",
       "       [ 0.26437493,  0.73562507],\n",
       "       [ 0.8256677 ,  0.1743323 ],\n",
       "       [ 0.87849088,  0.12150912],\n",
       "       [ 0.11227561,  0.88772439],\n",
       "       [ 0.81444622,  0.18555378],\n",
       "       [ 0.93400617,  0.06599383],\n",
       "       [ 0.0663834 ,  0.9336166 ],\n",
       "       [ 0.8993629 ,  0.1006371 ],\n",
       "       [ 0.06668517,  0.93331483],\n",
       "       [ 0.63673407,  0.36326593],\n",
       "       [ 0.71785851,  0.28214149],\n",
       "       [ 0.39203743,  0.60796257],\n",
       "       [ 0.16684274,  0.83315726],\n",
       "       [ 0.16788263,  0.83211737],\n",
       "       [ 0.10407225,  0.89592775],\n",
       "       [ 0.83279534,  0.16720466],\n",
       "       [ 0.24053328,  0.75946672],\n",
       "       [ 0.92577403,  0.07422597],\n",
       "       [ 0.61701399,  0.38298601],\n",
       "       [ 0.81422819,  0.18577181],\n",
       "       [ 0.16534389,  0.83465611],\n",
       "       [ 0.89961474,  0.10038526],\n",
       "       [ 0.73539955,  0.26460045],\n",
       "       [ 0.61173107,  0.38826893],\n",
       "       [ 0.24053328,  0.75946672],\n",
       "       [ 0.16534389,  0.83465611],\n",
       "       [ 0.83279534,  0.16720466],\n",
       "       [ 0.63673407,  0.36326593],\n",
       "       [ 0.9316237 ,  0.0683763 ],\n",
       "       [ 0.07414635,  0.92585365],\n",
       "       [ 0.81535429,  0.18464571],\n",
       "       [ 0.89961474,  0.10038526],\n",
       "       [ 0.73511885,  0.26488115],\n",
       "       [ 0.8431209 ,  0.1568791 ],\n",
       "       [ 0.92661626,  0.07338374],\n",
       "       [ 0.8993629 ,  0.1006371 ],\n",
       "       [ 0.0260635 ,  0.9739365 ],\n",
       "       [ 0.25125022,  0.74874978],\n",
       "       [ 0.71785851,  0.28214149],\n",
       "       [ 0.63673407,  0.36326593],\n",
       "       [ 0.89961474,  0.10038526],\n",
       "       [ 0.71785851,  0.28214149],\n",
       "       [ 0.62789521,  0.37210479],\n",
       "       [ 0.90604144,  0.09395856],\n",
       "       [ 0.63482177,  0.36517823],\n",
       "       [ 0.07076379,  0.92923621],\n",
       "       [ 0.62501197,  0.37498803],\n",
       "       [ 0.2794308 ,  0.7205692 ],\n",
       "       [ 0.62789521,  0.37210479],\n",
       "       [ 0.60845712,  0.39154288],\n",
       "       [ 0.74966313,  0.25033687],\n",
       "       [ 0.7215469 ,  0.2784531 ],\n",
       "       [ 0.83279534,  0.16720466],\n",
       "       [ 0.92661626,  0.07338374],\n",
       "       [ 0.41098258,  0.58901742],\n",
       "       [ 0.50711513,  0.49288487],\n",
       "       [ 0.37581279,  0.62418721],\n",
       "       [ 0.24295303,  0.75704697],\n",
       "       [ 0.93083465,  0.06916535],\n",
       "       [ 0.8792852 ,  0.1207148 ],\n",
       "       [ 0.8155713 ,  0.1844287 ],\n",
       "       [ 0.89961474,  0.10038526],\n",
       "       [ 0.93400617,  0.06599383],\n",
       "       [ 0.92181263,  0.07818737],\n",
       "       [ 0.93400617,  0.06599383],\n",
       "       [ 0.26437493,  0.73562507],\n",
       "       [ 0.26437493,  0.73562507],\n",
       "       [ 0.59895415,  0.40104585],\n",
       "       [ 0.07933657,  0.92066343],\n",
       "       [ 0.92661626,  0.07338374],\n",
       "       [ 0.8993629 ,  0.1006371 ],\n",
       "       [ 0.62789521,  0.37210479],\n",
       "       [ 0.35353855,  0.64646145],\n",
       "       [ 0.14633241,  0.85366759],\n",
       "       [ 0.36235397,  0.63764603],\n",
       "       [ 0.5158551 ,  0.4841449 ],\n",
       "       [ 0.24279125,  0.75720875],\n",
       "       [ 0.83383187,  0.16616813],\n",
       "       [ 0.24163475,  0.75836525],\n",
       "       [ 0.09413539,  0.90586461],\n",
       "       [ 0.90604144,  0.09395856],\n",
       "       [ 0.39203743,  0.60796257],\n",
       "       [ 0.22822496,  0.77177504],\n",
       "       [ 0.83279534,  0.16720466],\n",
       "       [ 0.83279534,  0.16720466],\n",
       "       [ 0.54495623,  0.45504377],\n",
       "       [ 0.73300632,  0.26699368]])"
      ]
     },
     "execution_count": 41,
     "metadata": {},
     "output_type": "execute_result"
    }
   ],
   "source": [
    "pred_prob"
   ]
  },
  {
   "cell_type": "code",
   "execution_count": 42,
   "metadata": {},
   "outputs": [
    {
     "data": {
      "text/plain": [
       "array([[134,  19],\n",
       "       [ 42,  73]])"
      ]
     },
     "execution_count": 42,
     "metadata": {},
     "output_type": "execute_result"
    }
   ],
   "source": [
    "confusion_matrix(val_y,pred)"
   ]
  },
  {
   "cell_type": "code",
   "execution_count": 44,
   "metadata": {},
   "outputs": [
    {
     "name": "stdout",
     "output_type": "stream",
     "text": [
      "             precision    recall  f1-score   support\n",
      "\n",
      "          0       0.76      0.88      0.81       153\n",
      "          1       0.79      0.63      0.71       115\n",
      "\n",
      "avg / total       0.78      0.77      0.77       268\n",
      "\n"
     ]
    }
   ],
   "source": [
    "print(classification_report(val_y,pred))"
   ]
  },
  {
   "cell_type": "code",
   "execution_count": 45,
   "metadata": {},
   "outputs": [
    {
     "data": {
      "text/plain": [
       "0.75529980107985217"
      ]
     },
     "execution_count": 45,
     "metadata": {},
     "output_type": "execute_result"
    }
   ],
   "source": [
    "roc_auc_score(val_y,pred)"
   ]
  },
  {
   "cell_type": "code",
   "execution_count": 46,
   "metadata": {},
   "outputs": [
    {
     "data": {
      "text/plain": [
       "array([ 1.16270008])"
      ]
     },
     "execution_count": 46,
     "metadata": {},
     "output_type": "execute_result"
    }
   ],
   "source": [
    "lr.intercept_"
   ]
  },
  {
   "cell_type": "code",
   "execution_count": 47,
   "metadata": {},
   "outputs": [
    {
     "data": {
      "text/plain": [
       "array([[-1.04435243, -0.07606552,  0.06860324,  0.48598554,  0.48877108,\n",
       "         0.02901494,  1.89581087, -0.73311079,  0.15093702,  0.02453125,\n",
       "         0.13861592, -0.34811562,  1.19673151]])"
      ]
     },
     "execution_count": 47,
     "metadata": {},
     "output_type": "execute_result"
    }
   ],
   "source": [
    "lr.coef_"
   ]
  },
  {
   "cell_type": "code",
   "execution_count": 48,
   "metadata": {},
   "outputs": [
    {
     "data": {
      "text/plain": [
       "array([[ 0.35191964,  0.92675548,  1.0710112 ,  1.62577649,  1.63031147,\n",
       "         1.02943998,  6.65794496,  0.4804122 ,  1.16292342,  1.02483462,\n",
       "         1.14868283,  0.70601724,  3.30928286]])"
      ]
     },
     "execution_count": 48,
     "metadata": {},
     "output_type": "execute_result"
    }
   ],
   "source": [
    "np.exp(lr.coef_)"
   ]
  },
  {
   "cell_type": "code",
   "execution_count": 49,
   "metadata": {},
   "outputs": [
    {
     "data": {
      "text/html": [
       "<div>\n",
       "<style>\n",
       "    .dataframe thead tr:only-child th {\n",
       "        text-align: right;\n",
       "    }\n",
       "\n",
       "    .dataframe thead th {\n",
       "        text-align: left;\n",
       "    }\n",
       "\n",
       "    .dataframe tbody tr th {\n",
       "        vertical-align: top;\n",
       "    }\n",
       "</style>\n",
       "<table border=\"1\" class=\"dataframe\">\n",
       "  <thead>\n",
       "    <tr style=\"text-align: right;\">\n",
       "      <th></th>\n",
       "      <th>Variables</th>\n",
       "      <th>coef</th>\n",
       "    </tr>\n",
       "  </thead>\n",
       "  <tbody>\n",
       "    <tr>\n",
       "      <th>0</th>\n",
       "      <td>Pclass</td>\n",
       "      <td>0.351920</td>\n",
       "    </tr>\n",
       "    <tr>\n",
       "      <th>1</th>\n",
       "      <td>SibSp</td>\n",
       "      <td>0.926755</td>\n",
       "    </tr>\n",
       "    <tr>\n",
       "      <th>2</th>\n",
       "      <td>Parch</td>\n",
       "      <td>1.071011</td>\n",
       "    </tr>\n",
       "    <tr>\n",
       "      <th>3</th>\n",
       "      <td>C</td>\n",
       "      <td>1.625776</td>\n",
       "    </tr>\n",
       "    <tr>\n",
       "      <th>4</th>\n",
       "      <td>Q</td>\n",
       "      <td>1.630311</td>\n",
       "    </tr>\n",
       "    <tr>\n",
       "      <th>5</th>\n",
       "      <td>S</td>\n",
       "      <td>1.029440</td>\n",
       "    </tr>\n",
       "    <tr>\n",
       "      <th>6</th>\n",
       "      <td>female</td>\n",
       "      <td>6.657945</td>\n",
       "    </tr>\n",
       "    <tr>\n",
       "      <th>7</th>\n",
       "      <td>male</td>\n",
       "      <td>0.480412</td>\n",
       "    </tr>\n",
       "    <tr>\n",
       "      <th>8</th>\n",
       "      <td>18-24</td>\n",
       "      <td>1.162923</td>\n",
       "    </tr>\n",
       "    <tr>\n",
       "      <th>9</th>\n",
       "      <td>25-34</td>\n",
       "      <td>1.024835</td>\n",
       "    </tr>\n",
       "    <tr>\n",
       "      <th>10</th>\n",
       "      <td>35-44</td>\n",
       "      <td>1.148683</td>\n",
       "    </tr>\n",
       "    <tr>\n",
       "      <th>11</th>\n",
       "      <td>45+</td>\n",
       "      <td>0.706017</td>\n",
       "    </tr>\n",
       "    <tr>\n",
       "      <th>12</th>\n",
       "      <td>&lt;18</td>\n",
       "      <td>3.309283</td>\n",
       "    </tr>\n",
       "  </tbody>\n",
       "</table>\n",
       "</div>"
      ],
      "text/plain": [
       "   Variables      coef\n",
       "0     Pclass  0.351920\n",
       "1      SibSp  0.926755\n",
       "2      Parch  1.071011\n",
       "3          C  1.625776\n",
       "4          Q  1.630311\n",
       "5          S  1.029440\n",
       "6     female  6.657945\n",
       "7       male  0.480412\n",
       "8      18-24  1.162923\n",
       "9      25-34  1.024835\n",
       "10     35-44  1.148683\n",
       "11       45+  0.706017\n",
       "12       <18  3.309283"
      ]
     },
     "execution_count": 49,
     "metadata": {},
     "output_type": "execute_result"
    }
   ],
   "source": [
    "pd.DataFrame({'coef':np.exp(lr.coef_)[0],'Variables':X.columns})"
   ]
  },
  {
   "cell_type": "code",
   "execution_count": null,
   "metadata": {
    "collapsed": true
   },
   "outputs": [],
   "source": []
  }
 ],
 "metadata": {
  "kernelspec": {
   "display_name": "Python 3",
   "language": "python",
   "name": "python3"
  },
  "language_info": {
   "codemirror_mode": {
    "name": "ipython",
    "version": 3
   },
   "file_extension": ".py",
   "mimetype": "text/x-python",
   "name": "python",
   "nbconvert_exporter": "python",
   "pygments_lexer": "ipython3",
   "version": "3.6.1"
  }
 },
 "nbformat": 4,
 "nbformat_minor": 2
}
